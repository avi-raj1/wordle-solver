{
 "cells": [
  {
   "cell_type": "code",
   "execution_count": 29,
   "id": "7bca2429-fde1-417a-b6a4-ccdab0920cfb",
   "metadata": {},
   "outputs": [],
   "source": [
    "import math\n",
    "from collections import defaultdict\n",
    "\n",
    "# Load words from file\n",
    "def load_words(filename=\"words.txt\"):\n",
    "    with open(filename) as f:\n",
    "        return [line.strip().lower() for line in f if len(line.strip()) == 5]\n",
    "\n",
    "# Generate feedback pattern (e.g., \"GYBBG\")\n",
    "def get_feedback(guess, target):\n",
    "    feedback = ['B'] * 5\n",
    "    guess_chars = list(guess)\n",
    "    target_chars = list(target)\n",
    "\n",
    "    # Green pass\n",
    "    for i in range(5):\n",
    "        if guess_chars[i] == target_chars[i]:\n",
    "            feedback[i] = 'G'\n",
    "            target_chars[i] = None\n",
    "\n",
    "    # Yellow pass\n",
    "    for i in range(5):\n",
    "        if feedback[i] == 'B' and guess_chars[i] in target_chars:\n",
    "            feedback[i] = 'Y'\n",
    "            target_chars[target_chars.index(guess_chars[i])] = None\n",
    "\n",
    "    return ''.join(feedback)\n",
    "\n",
    "# Compute entropy of a guess against all remaining possible words\n",
    "def compute_entropy(guess, possible_words):\n",
    "    pattern_counts = defaultdict(int)\n",
    "    \n",
    "    for target in possible_words:\n",
    "        pattern = get_feedback(guess, target)\n",
    "        pattern_counts[pattern] += 1\n",
    "\n",
    "    total = len(possible_words)\n",
    "    entropy = 0\n",
    "\n",
    "    for count in pattern_counts.values():\n",
    "        p = count / total\n",
    "        entropy -= p * math.log2(p)\n",
    "\n",
    "    return entropy\n",
    "\n",
    "# Suggest best guess\n",
    "def suggest_best_guess(possible_words, all_words):\n",
    "    best_guess = None\n",
    "    max_entropy = -1\n",
    "\n",
    "    for guess in all_words:\n",
    "        entropy = compute_entropy(guess, possible_words)\n",
    "        if entropy > max_entropy:\n",
    "            max_entropy = entropy\n",
    "            best_guess = guess\n",
    "\n",
    "    return best_guess, max_entropy\n",
    "\n",
    "def filter_possible_words(possible_words, guess, feedback):\n",
    "    return [\n",
    "        word for word in possible_words\n",
    "        if get_feedback(guess, word) == feedback\n",
    "    ]"
   ]
  },
  {
   "cell_type": "code",
   "execution_count": 30,
   "id": "8ff605d9-484d-443f-bffb-b1846c880598",
   "metadata": {},
   "outputs": [
    {
     "name": "stdout",
     "output_type": "stream",
     "text": [
      "Best next guess: tares (entropy = 6.2092)\n"
     ]
    }
   ],
   "source": [
    "ans = 'plaid'\n",
    "all_words = load_words(\"words.txt\")\n",
    "possible_words = all_words.copy()  # update this list after each guess + feedback\n",
    "guess, entropy = suggest_best_guess(possible_words, all_words)\n",
    "print(f\"Best next guess: {guess} (entropy = {entropy:.4f})\")"
   ]
  },
  {
   "cell_type": "code",
   "execution_count": 31,
   "id": "4fc412f4-c25f-43d3-af6f-a98c18f10329",
   "metadata": {},
   "outputs": [
    {
     "name": "stdout",
     "output_type": "stream",
     "text": [
      "Remaining possible words: 191\n",
      "['again', 'along', 'among', 'black', 'woman', 'human', 'final', 'local', 'plain', 'piano']\n"
     ]
    }
   ],
   "source": [
    "# Example: after guessing 'slate' you received feedback 'BYGBB'\n",
    "guess = 'tares'\n",
    "feedback = get_feedback(guess, ans)\n",
    "\n",
    "# Narrow down the list\n",
    "possible_words = filter_possible_words(possible_words, guess, feedback)\n",
    "\n",
    "print(f\"Remaining possible words: {len(possible_words)}\")\n",
    "print(possible_words[:10])  # show first 10"
   ]
  },
  {
   "cell_type": "code",
   "execution_count": 32,
   "id": "1a5e4571-2b9a-4a98-b4bb-02b5ea02043d",
   "metadata": {},
   "outputs": [
    {
     "name": "stdout",
     "output_type": "stream",
     "text": [
      "Best next guess: cling (entropy = 5.0110)\n"
     ]
    }
   ],
   "source": [
    "guess, entropy = suggest_best_guess(possible_words, all_words)\n",
    "print(f\"Best next guess: {guess} (entropy = {entropy:.4f})\")"
   ]
  },
  {
   "cell_type": "code",
   "execution_count": 33,
   "id": "9181db14-e65f-47cc-8b1e-21dbd8e082da",
   "metadata": {},
   "outputs": [
    {
     "name": "stdout",
     "output_type": "stream",
     "text": [
      "Remaining possible words: 2\n",
      "['plaid', 'flail']\n"
     ]
    }
   ],
   "source": [
    "# Example: after guessing 'slate' you received feedback 'BYGBB'\n",
    "guess = 'cling'\n",
    "feedback = get_feedback(guess, ans)\n",
    "\n",
    "# Narrow down the list\n",
    "possible_words = filter_possible_words(possible_words, guess, feedback)\n",
    "\n",
    "print(f\"Remaining possible words: {len(possible_words)}\")\n",
    "print(possible_words[:10])  # show first 10"
   ]
  },
  {
   "cell_type": "code",
   "execution_count": 34,
   "id": "99afcc12-fa96-4319-a1eb-a136808de4e5",
   "metadata": {},
   "outputs": [
    {
     "name": "stdout",
     "output_type": "stream",
     "text": [
      "Remaining possible words: 1\n",
      "['plaid']\n"
     ]
    }
   ],
   "source": [
    "# Example: after guessing 'slate' you received feedback 'BYGBB'\n",
    "guess = 'flail'\n",
    "feedback = get_feedback(guess, ans)\n",
    "\n",
    "# Narrow down the list\n",
    "possible_words = filter_possible_words(possible_words, guess, feedback)\n",
    "\n",
    "print(f\"Remaining possible words: {len(possible_words)}\")\n",
    "print(possible_words[:10])  # show first 10"
   ]
  },
  {
   "cell_type": "code",
   "execution_count": null,
   "id": "975e5efc-a4c5-4c16-bef4-7d4ae86e963d",
   "metadata": {},
   "outputs": [],
   "source": []
  }
 ],
 "metadata": {
  "kernelspec": {
   "display_name": "Python 3 (ipykernel)",
   "language": "python",
   "name": "python3"
  },
  "language_info": {
   "codemirror_mode": {
    "name": "ipython",
    "version": 3
   },
   "file_extension": ".py",
   "mimetype": "text/x-python",
   "name": "python",
   "nbconvert_exporter": "python",
   "pygments_lexer": "ipython3",
   "version": "3.10.0"
  }
 },
 "nbformat": 4,
 "nbformat_minor": 5
}
