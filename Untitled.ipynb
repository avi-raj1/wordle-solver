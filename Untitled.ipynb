{
 "cells": [
  {
   "cell_type": "code",
   "execution_count": 24,
   "id": "acceefae-b99d-4dfd-80ea-7929a2f6425f",
   "metadata": {},
   "outputs": [],
   "source": [
    "from utils import *"
   ]
  },
  {
   "cell_type": "code",
   "execution_count": 25,
   "id": "14b8cdab-8204-4e2f-b604-f6500b434830",
   "metadata": {},
   "outputs": [
    {
     "data": {
      "text/plain": [
       "5757"
      ]
     },
     "execution_count": 25,
     "metadata": {},
     "output_type": "execute_result"
    }
   ],
   "source": [
    "words = load_words('word_lists/words_lite.txt')\n",
    "len(words)"
   ]
  },
  {
   "cell_type": "code",
   "execution_count": 26,
   "id": "13edb77b-7950-4095-8451-7ef1f154bd94",
   "metadata": {},
   "outputs": [
    {
     "data": {
      "text/plain": [
       "5757"
      ]
     },
     "execution_count": 26,
     "metadata": {},
     "output_type": "execute_result"
    }
   ],
   "source": [
    "possible_words = words.copy()\n",
    "len(possible_words)"
   ]
  },
  {
   "cell_type": "code",
   "execution_count": 27,
   "id": "92ce9215-8b1c-4715-b4aa-1ddf1dfa732a",
   "metadata": {},
   "outputs": [
    {
     "data": {
      "text/plain": [
       "230"
      ]
     },
     "execution_count": 27,
     "metadata": {},
     "output_type": "execute_result"
    }
   ],
   "source": [
    "possible_words = filter_possible_words(possible_words, 'ariel', 'BBBBY')\n",
    "len(possible_words)"
   ]
  },
  {
   "cell_type": "code",
   "execution_count": 28,
   "id": "5addbcbb",
   "metadata": {},
   "outputs": [
    {
     "data": {
      "text/plain": [
       "33"
      ]
     },
     "execution_count": 28,
     "metadata": {},
     "output_type": "execute_result"
    }
   ],
   "source": [
    "possible_words = filter_possible_words(possible_words, 'mount', 'BYBBB')\n",
    "len(possible_words)"
   ]
  },
  {
   "cell_type": "code",
   "execution_count": 29,
   "id": "47942135",
   "metadata": {},
   "outputs": [
    {
     "data": {
      "text/plain": [
       "['scops', 'cusps', 'scabs']"
      ]
     },
     "execution_count": 29,
     "metadata": {},
     "output_type": "execute_result"
    }
   ],
   "source": [
    "suggest_top_guesses(possible_words, words, 3)"
   ]
  },
  {
   "cell_type": "code",
   "execution_count": 30,
   "id": "0cdea5a2",
   "metadata": {},
   "outputs": [
    {
     "data": {
      "text/plain": [
       "1"
      ]
     },
     "execution_count": 30,
     "metadata": {},
     "output_type": "execute_result"
    }
   ],
   "source": [
    "possible_words = filter_possible_words(possible_words, 'scops', 'BBYBB')\n",
    "len(possible_words)"
   ]
  },
  {
   "cell_type": "code",
   "execution_count": 31,
   "id": "7c337d33",
   "metadata": {},
   "outputs": [
    {
     "data": {
      "text/plain": [
       "['oddly']"
      ]
     },
     "execution_count": 31,
     "metadata": {},
     "output_type": "execute_result"
    }
   ],
   "source": [
    "possible_words"
   ]
  },
  {
   "cell_type": "code",
   "execution_count": null,
   "id": "9fadf23d",
   "metadata": {},
   "outputs": [],
   "source": []
  }
 ],
 "metadata": {
  "kernelspec": {
   "display_name": "Python 3",
   "language": "python",
   "name": "python3"
  },
  "language_info": {
   "codemirror_mode": {
    "name": "ipython",
    "version": 3
   },
   "file_extension": ".py",
   "mimetype": "text/x-python",
   "name": "python",
   "nbconvert_exporter": "python",
   "pygments_lexer": "ipython3",
   "version": "3.10.0"
  }
 },
 "nbformat": 4,
 "nbformat_minor": 5
}
